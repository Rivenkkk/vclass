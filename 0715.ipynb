{
 "cells": [
  {
   "cell_type": "code",
   "execution_count": 24,
   "id": "7a4e7d2e",
   "metadata": {},
   "outputs": [
    {
     "name": "stdout",
     "output_type": "stream",
     "text": [
      "負數\n"
     ]
    }
   ],
   "source": [
    "def 正負判定():\n",
    "    a=int(input())\n",
    "    if a>=0:\n",
    "        print(\"正數\")\n",
    "    else:\n",
    "        print(\"負數\")\n",
    "    \n",
    "正負判定()\n"
   ]
  },
  {
   "cell_type": "code",
   "execution_count": 26,
   "id": "b3151f4f",
   "metadata": {},
   "outputs": [
    {
     "name": "stdout",
     "output_type": "stream",
     "text": [
      "7\n"
     ]
    }
   ],
   "source": [
    "def add(a,b):\n",
    "    c=a+b\n",
    "    print(c)\n",
    "\n",
    "add(3,4)"
   ]
  },
  {
   "cell_type": "code",
   "execution_count": 30,
   "id": "5846f94e",
   "metadata": {},
   "outputs": [
    {
     "ename": "SyntaxError",
     "evalue": "invalid syntax (2674423573.py, line 1)",
     "output_type": "error",
     "traceback": [
      "\u001b[0;36m  Cell \u001b[0;32mIn[30], line 1\u001b[0;36m\u001b[0m\n\u001b[0;31m    def hr_to_min(\"hr\",\"isEarth\"):\u001b[0m\n\u001b[0m                  ^\u001b[0m\n\u001b[0;31mSyntaxError\u001b[0m\u001b[0;31m:\u001b[0m invalid syntax\n"
     ]
    }
   ],
   "source": [
    "def hr_to_min(\"hr\",\"isEarth\"):\n",
    "    hr=int(input())\n",
    "    isEarth=bool(input( ))\n",
    "    if isEarth:\n",
    "        min=\"hr\"*60\n",
    "    else:\n",
    "        min=\"hr*70\n",
    "\n",
    "hr_to_min()\n",
    "        \n",
    "\n"
   ]
  }
 ],
 "metadata": {
  "kernelspec": {
   "display_name": "Python 3 (ipykernel)",
   "language": "python",
   "name": "python3"
  },
  "language_info": {
   "codemirror_mode": {
    "name": "ipython",
    "version": 3
   },
   "file_extension": ".py",
   "mimetype": "text/x-python",
   "name": "python",
   "nbconvert_exporter": "python",
   "pygments_lexer": "ipython3",
   "version": "3.9.6"
  }
 },
 "nbformat": 4,
 "nbformat_minor": 5
}
